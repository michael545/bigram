{
 "cells": [
  {
   "cell_type": "code",
   "execution_count": 295,
   "id": "4b7999cd",
   "metadata": {},
   "outputs": [],
   "source": [
    "words = open('names.txt', 'r').read().splitlines()"
   ]
  },
  {
   "cell_type": "code",
   "execution_count": 296,
   "id": "f4171933",
   "metadata": {},
   "outputs": [
    {
     "data": {
      "text/plain": [
       "['emma',\n",
       " 'olivia',\n",
       " 'ava',\n",
       " 'isabella',\n",
       " 'sophia',\n",
       " 'charlotte',\n",
       " 'mia',\n",
       " 'amelia',\n",
       " 'harper',\n",
       " 'evelyn']"
      ]
     },
     "execution_count": 296,
     "metadata": {},
     "output_type": "execute_result"
    }
   ],
   "source": [
    "\n",
    "words[:10]"
   ]
  },
  {
   "cell_type": "code",
   "execution_count": 297,
   "id": "4f42699a",
   "metadata": {},
   "outputs": [
    {
     "data": {
      "text/plain": [
       "32033"
      ]
     },
     "execution_count": 297,
     "metadata": {},
     "output_type": "execute_result"
    }
   ],
   "source": [
    "\n",
    "len(words)"
   ]
  },
  {
   "cell_type": "code",
   "execution_count": 298,
   "id": "44272887",
   "metadata": {},
   "outputs": [],
   "source": [
    "\n",
    "min(len(w) for w in words)"
   ]
  },
  {
   "cell_type": "code",
   "execution_count": 299,
   "id": "3a1040be",
   "metadata": {},
   "outputs": [],
   "source": [
    "\n",
    "max(len(w) for w in words)"
   ]
  },
  {
   "cell_type": "code",
   "execution_count": 300,
   "id": "8dad7352",
   "metadata": {},
   "outputs": [],
   "source": [
    "# Assuming `words` is your list of names\n",
    "long_names = [name for name in words if len(name) == 15]\n"
   ]
  },
  {
   "cell_type": "code",
   "execution_count": 301,
   "id": "58620f61",
   "metadata": {},
   "outputs": [],
   "source": [
    "for name in long_names:\n",
    "    print(name)\n"
   ]
  },
  {
   "cell_type": "code",
   "execution_count": 302,
   "id": "ed64f5fd",
   "metadata": {},
   "outputs": [],
   "source": [
    "for w in words[:1]:\n",
    "    chs = ['<S>'] + list(w) + ['<E>']\n",
    "    for ch1,ch2 in zip(w, w[1:]):\n",
    "        print(ch1,ch2)"
   ]
  },
  {
   "cell_type": "code",
   "execution_count": 303,
   "id": "036dc8f2",
   "metadata": {},
   "outputs": [],
   "source": [
    "my_string = \"hello\"\n",
    "my_list_of_chars = list(my_string)\n",
    "print(my_list_of_chars+ list(\"this is awesome\"))\n"
   ]
  },
  {
   "cell_type": "code",
   "execution_count": 304,
   "id": "9be993f7",
   "metadata": {},
   "outputs": [],
   "source": [
    "\n",
    "b= {}\n",
    "\n",
    "for w in words:\n",
    "    chs = ['<S>'] + list(w) + ['<E>']\n",
    "    for ch1,ch2 in zip(chs, chs[1:]):\n",
    "        bigram = (ch1, ch2)   \n",
    "        b[bigram] = b.get(bigram, 0) + 1\n",
    "        #print(ch1,ch2)"
   ]
  },
  {
   "cell_type": "code",
   "execution_count": 305,
   "id": "9499bd9b",
   "metadata": {},
   "outputs": [],
   "source": [
    "sorted(b.items(), key = lambda kv: kv[1])"
   ]
  },
  {
   "cell_type": "code",
   "execution_count": 306,
   "id": "9ae2c77d",
   "metadata": {},
   "outputs": [],
   "source": [
    "def get_count(kv):\n",
    "    return -kv[1]\n",
    "\n",
    "sorted_b = sorted(b.items(), key=get_count)\n",
    "sorted_b\n"
   ]
  },
  {
   "cell_type": "code",
   "execution_count": 307,
   "id": "45cde97f",
   "metadata": {},
   "outputs": [],
   "source": [
    "#store this info in 2d array\n",
    "import torch\n",
    "\n"
   ]
  },
  {
   "cell_type": "code",
   "execution_count": 308,
   "id": "90a026c0",
   "metadata": {},
   "outputs": [],
   "source": [
    "a= torch.zeros((3,5), dtype=torch.int32)\n",
    "a"
   ]
  },
  {
   "cell_type": "code",
   "execution_count": 309,
   "id": "08ecaf41",
   "metadata": {},
   "outputs": [],
   "source": [
    "a.dtype"
   ]
  },
  {
   "cell_type": "code",
   "execution_count": 310,
   "id": "b6a4c789",
   "metadata": {},
   "outputs": [],
   "source": [
    "a[1,3] =3"
   ]
  },
  {
   "cell_type": "code",
   "execution_count": 311,
   "id": "17d663a6",
   "metadata": {},
   "outputs": [],
   "source": [
    "a"
   ]
  },
  {
   "cell_type": "code",
   "execution_count": 312,
   "id": "bc0467a2",
   "metadata": {},
   "outputs": [],
   "source": [
    "a[0,0] = 5"
   ]
  },
  {
   "cell_type": "code",
   "execution_count": 313,
   "id": "8573d178",
   "metadata": {},
   "outputs": [],
   "source": [
    "N = torch.zeros((27,27), dtype=torch.int32)\n"
   ]
  },
  {
   "cell_type": "code",
   "execution_count": 314,
   "id": "3fbbee1a",
   "metadata": {},
   "outputs": [],
   "source": [
    "chars = sorted(list(set(''.join(words))))\n",
    "stoi ={s:i+1 for i, s in enumerate(chars)}\n",
    "stoi['.'] = 0\n",
    "itos = {i:s for s, i in stoi.items()}; \n",
    "stoi"
   ]
  },
  {
   "cell_type": "code",
   "execution_count": 315,
   "id": "e9106339",
   "metadata": {},
   "outputs": [],
   "source": [
    "\n",
    "for w in words:\n",
    "    chs = ['.'] + list(w) + ['.']\n",
    "    for ch1,ch2 in zip(chs, chs[1:]):\n",
    "        ix1 = stoi[ch1]\n",
    "        ix2 = stoi[ch2]\n",
    "        N[ix1, ix2] += 1\n",
    "        #print(ch1,ch2)"
   ]
  },
  {
   "cell_type": "code",
   "execution_count": 316,
   "id": "c31db387",
   "metadata": {},
   "outputs": [],
   "source": [
    "import matplotlib.pyplot as plt\n",
    "%matplotlib inline"
   ]
  },
  {
   "cell_type": "code",
   "execution_count": 317,
   "id": "e011839f",
   "metadata": {},
   "outputs": [],
   "source": [
    "plt.figure(figsize=(16,16))\n",
    "plt.imshow(N, cmap='Blues')\n",
    "for i in range(27):\n",
    "    for j in range(27):\n",
    "        chstr = itos[i] + itos[j]\n",
    "        plt.text(j, i, chstr, ha=\"center\", va=\"bottom\", color='gray')\n",
    "        plt.text(j, i, N[i, j].item(), ha=\"center\", va=\"top\", color='gray')\n",
    "plt.axis('off');"
   ]
  },
  {
   "cell_type": "code",
   "execution_count": 318,
   "id": "8d518baa",
   "metadata": {},
   "outputs": [],
   "source": [
    "p = N[0].float(); p"
   ]
  },
  {
   "cell_type": "code",
   "execution_count": 319,
   "id": "a132157e",
   "metadata": {},
   "outputs": [],
   "source": [
    "P = N.float()\n",
    "P.sum(1, keepdim =True).shape\n",
    "\n",
    "P = N.float()\n",
    "P /= P.sum(1, keepdim = True)"
   ]
  },
  {
   "cell_type": "code",
   "execution_count": 320,
   "id": "a48bf38f",
   "metadata": {},
   "outputs": [],
   "source": [
    "P[0].sum()"
   ]
  },
  {
   "cell_type": "code",
   "execution_count": 321,
   "id": "927f95ce",
   "metadata": {},
   "outputs": [],
   "source": [
    "\n",
    "g = torch.Generator().manual_seed(2147483647)\n",
    "\n",
    "for i in range(50):\n",
    "    out = []\n",
    "    ix = 0\n",
    "    while True:\n",
    "        p = P[ix]\n",
    "#         p = torch.ones(27)/27.0\n",
    "        ix = torch.multinomial(p, num_samples=1, replacement=True, generator=g).item()\n",
    "        out.append(itos[ix])\n",
    "        if ix == 0:\n",
    "            break\n",
    "\n",
    "    print(\"\".join(out))"
   ]
  },
  {
   "cell_type": "code",
   "execution_count": 322,
   "id": "6a85884a",
   "metadata": {},
   "outputs": [],
   "source": [
    "# create the training set of all the bigrams\n",
    "xs, ys = [],[]\n",
    "for w in words[:1]:\n",
    "    chs = ['.'] + list(w) + ['.']\n",
    "    for ch1,ch2 in zip(chs, chs[1:]):\n",
    "        ix1 = stoi[ch1]\n",
    "        ix2 = stoi[ch2]\n",
    "        xs.append(ix1)\n",
    "        ys.append(ix2)\n",
    "xs = torch.tensor(xs)\n",
    "ys = torch.tensor(ys)\n",
    "\n"
   ]
  },
  {
   "cell_type": "code",
   "execution_count": 323,
   "id": "0903a7d3",
   "metadata": {},
   "outputs": [],
   "source": [
    "xs\n",
    "\n",
    "\n"
   ]
  },
  {
   "cell_type": "code",
   "execution_count": 324,
   "id": "9a71ba18",
   "metadata": {},
   "outputs": [],
   "source": [
    "ys"
   ]
  },
  {
   "cell_type": "code",
   "execution_count": 325,
   "id": "93750bd0",
   "metadata": {},
   "outputs": [],
   "source": [
    "import torch.nn.functional as F"
   ]
  },
  {
   "cell_type": "code",
   "execution_count": 326,
   "id": "436a39c3",
   "metadata": {},
   "outputs": [],
   "source": [
    "import torch.nn.functional as F\n",
    "xenc = F.one_hot(xs, num_classes=27).float()\n",
    "xenc"
   ]
  },
  {
   "cell_type": "code",
   "execution_count": 327,
   "id": "b2e80fad",
   "metadata": {},
   "outputs": [],
   "source": [
    "plt.imshow(xenc)\n",
    "xenc.shape"
   ]
  },
  {
   "cell_type": "code",
   "execution_count": 328,
   "id": "f09f8029",
   "metadata": {},
   "outputs": [],
   "source": [
    "W = torch.randn((27, 27), requires_grad = True)"
   ]
  },
  {
   "cell_type": "code",
   "execution_count": 329,
   "id": "c06c9131",
   "metadata": {},
   "outputs": [],
   "source": [
    "xenc @ W"
   ]
  },
  {
   "cell_type": "code",
   "execution_count": 330,
   "id": "0f2ad059",
   "metadata": {},
   "outputs": [],
   "source": [
    "counts = (xenc @ W).exp()\n",
    "probs = counts / counts.sum(1, keepdims=True)\n",
    "probs\n",
    "loss = -probs[torch.arange(5) ,ys].log().mean()"
   ]
  },
  {
   "cell_type": "code",
   "execution_count": 331,
   "id": "2305636b",
   "metadata": {},
   "outputs": [],
   "source": [
    "probs[0].shape"
   ]
  },
  {
   "cell_type": "code",
   "execution_count": 332,
   "id": "e226f821",
   "metadata": {},
   "outputs": [],
   "source": [
    "probs[0]"
   ]
  },
  {
   "cell_type": "code",
   "execution_count": 333,
   "id": "e18677ca",
   "metadata": {},
   "outputs": [],
   "source": [
    "loss = -probs[torch.arange(5) ,ys].log().mean()"
   ]
  },
  {
   "cell_type": "code",
   "execution_count": 334,
   "id": "dc7fbeb5",
   "metadata": {},
   "outputs": [],
   "source": [
    "loss.item()"
   ]
  },
  {
   "cell_type": "code",
   "execution_count": 335,
   "id": "753bf948",
   "metadata": {},
   "outputs": [],
   "source": [
    "W.grad = None # set to zero\n",
    "loss.backward()\n"
   ]
  },
  {
   "cell_type": "code",
   "execution_count": 336,
   "id": "da8c0737",
   "metadata": {},
   "outputs": [],
   "source": [
    "W.grad.shape"
   ]
  },
  {
   "cell_type": "code",
   "execution_count": 337,
   "id": "4a2cf685",
   "metadata": {},
   "outputs": [],
   "source": [
    "W.data += -0.1*W.grad"
   ]
  },
  {
   "cell_type": "code",
   "execution_count": 338,
   "id": "c116a487",
   "metadata": {},
   "outputs": [],
   "source": [
    "import torch\n",
    "\n",
    "\n",
    "\n",
    "# Prepare data\n",
    "xs, ys = [], []\n",
    "for w in words:\n",
    "    chs = ['.'] + list(w) + ['.']\n",
    "    for ch1, ch2 in zip(chs, chs[1:]):\n",
    "        ix1 = stoi[ch1]\n",
    "        ix2 = stoi[ch2]\n",
    "        xs.append(ix1)\n",
    "        ys.append(ix2)\n",
    "\n",
    "xs = torch.tensor(xs)\n",
    "ys = torch.tensor(ys)\n",
    "num = xs.nelement()\n",
    "print('number of examples: ', num)\n",
    "\n",
    "# Initialize the 'network'\n",
    "g = torch.Generator().manual_seed(2147483647)\n",
    "W = torch.randn((27, 27), generator=g, requires_grad=True)\n"
   ]
  },
  {
   "cell_type": "code",
   "execution_count": 339,
   "id": "c2c87059",
   "metadata": {},
   "outputs": [],
   "source": [
    "(W**2).sum()"
   ]
  },
  {
   "cell_type": "code",
   "execution_count": 340,
   "id": "96c895cc",
   "metadata": {},
   "outputs": [],
   "source": [
    "# Gradient descent\n",
    "for k in range(100):\n",
    "    \n",
    "    # Forward pass\n",
    "    xenc = F.one_hot(xs, num_classes=27).float()  # Input to the network: one-hot encoding\n",
    "    logits = xenc @ W  # Predict log-counts\n",
    "    counts = logits.exp()  # Counts, equivalent to N\n",
    "    probs = counts / counts.sum(1, keepdims=True)  # Probabilities for next character\n",
    "    loss = -probs[torch.arange(num), ys].log().mean() + 0.01*(W**2).mean() + 0.01*(W**2).mean()\n",
    "    print(loss.item())\n",
    "    \n",
    "    # Backward pass\n",
    "    W.grad = None  # Set to zero the gradient\n",
    "    loss.backward()\n",
    "    \n",
    "    # Update\n",
    "    W.data += -50 * W.grad  # Update weights with learning rate of 50\n"
   ]
  },
  {
   "cell_type": "code",
   "execution_count": 341,
   "id": "2d48bd07",
   "metadata": {},
   "outputs": [],
   "source": [
    "for i in range(5):\n",
    "    out = []\n",
    "    ix = 0\n",
    "    while True:\n",
    "        \n",
    "        # Predict next character probabilities\n",
    "        xenc = F.one_hot(torch.tensor([ix]), num_classes=27).float()\n",
    "        logits = xenc @ W  # Predict log-counts\n",
    "        counts = logits.exp()  # Counts, equivalent to N\n",
    "        p = counts / counts.sum(1, keepdims=True)  # Probabilities for next character\n",
    "        \n",
    "        # Sample from the distribution\n",
    "        ix = torch.multinomial(p, num_samples=1, replacement=True, generator=g).item()\n",
    "        out.append(itos[ix])\n",
    "        if ix == 0:\n",
    "            break\n",
    "    \n",
    "    print(''.join(out))"
   ]
  },
  {
   "cell_type": "code",
   "execution_count": null,
   "id": "80f77b0e",
   "metadata": {},
   "outputs": [],
   "source": []
  }
 ],
 "metadata": {
  "kernelspec": {
   "display_name": "Python 3 (ipykernel)",
   "language": "python",
   "name": "python3"
  },
  "language_info": {
   "codemirror_mode": {
    "name": "ipython",
    "version": 3
   },
   "file_extension": ".py",
   "mimetype": "text/x-python",
   "name": "python",
   "nbconvert_exporter": "python",
   "pygments_lexer": "ipython3",
   "version": "3.9.12"
  }
 },
 "nbformat": 4,
 "nbformat_minor": 5
}
